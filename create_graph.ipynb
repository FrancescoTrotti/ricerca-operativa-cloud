{
 "cells": [
  {
   "cell_type": "markdown",
   "metadata": {},
   "source": [
    "<h1> Check if following graph is biparite </h1>"
   ]
  },
  {
   "cell_type": "markdown",
   "metadata": {},
   "source": [
    "<p>- Is this graph bipartite? Answer yes or no by cliccking the button<br>\n",
    "    - If it is bipartite select the two set of nodes </p>"
   ]
  },
  {
   "cell_type": "code",
   "execution_count": 8,
   "metadata": {
    "hide_input": false,
    "scrolled": false
   },
   "outputs": [
    {
     "data": {
      "text/html": [
       "\n",
       "<script src=\"lib/sigmajs/sigma.min.js\"></script>\n",
       "<script src=\"js/sigma-add-method-neighbors.js\"></script>\n"
      ],
      "text/plain": [
       "<IPython.core.display.HTML object>"
      ]
     },
     "execution_count": 8,
     "metadata": {},
     "output_type": "execute_result"
    }
   ],
   "source": [
    "from IPython.core.display import display, HTML\n",
    "from string import Template\n",
    "import pandas as pd\n",
    "import json, random\n",
    "import math\n",
    "import xml.etree.ElementTree as ET\n",
    "import time\n",
    "\n",
    "HTML('''\n",
    "<script src=\"lib/sigmajs/sigma.min.js\"></script>\n",
    "<script src=\"js/sigma-add-method-neighbors.js\"></script>\n",
    "''')"
   ]
  },
  {
   "cell_type": "code",
   "execution_count": 9,
   "metadata": {
    "hide_input": false,
    "scrolled": true
   },
   "outputs": [
    {
     "data": {
      "text/html": [
       "\n",
       "<div id=\"graph-div\" style=\"height:600px\"></div>\n",
       "<button id=\"prp\" value=\"fihf\">kduhkfh</button>\n",
       "<script> var g = {\"nodes\": [{\"id\": \"n0\", \"label\": \"n0\", \"x\": 1.0, \"y\": 0.0, \"size\": 7, \"color\": \"#666\"}, {\"id\": \"n1\", \"label\": \"n1\", \"x\": -0.8390715290764524, \"y\": -0.5440211108893698, \"size\": 7, \"color\": \"#666\"}, {\"id\": \"n2\", \"label\": \"n2\", \"x\": 0.40808206181339196, \"y\": 0.9129452507276277, \"size\": 7, \"color\": \"#666\"}, {\"id\": \"n3\", \"label\": \"n3\", \"x\": 0.15425144988758405, \"y\": -0.9880316240928618, \"size\": 7, \"color\": \"#666\"}, {\"id\": \"n4\", \"label\": \"n4\", \"x\": -0.6669380616522619, \"y\": 0.7451131604793488, \"size\": 7, \"color\": \"#666\"}, {\"id\": \"n5\", \"label\": \"n5\", \"x\": 0.9649660284921133, \"y\": -0.26237485370392877, \"size\": 7, \"color\": \"#666\"}, {\"id\": \"na\", \"label\": \"na\", \"x\": -0.9524129804151563, \"y\": -0.3048106211022167, \"size\": 7, \"color\": \"#666\"}, {\"id\": \"nb\", \"label\": \"nb\", \"x\": 0.6333192030862999, \"y\": 0.7738906815578891, \"size\": 7, \"color\": \"#666\"}, {\"id\": \"nc\", \"label\": \"nc\", \"x\": -0.11038724383904756, \"y\": -0.9938886539233752, \"size\": 7, \"color\": \"#666\"}, {\"id\": \"nd\", \"label\": \"nd\", \"x\": -0.4480736161291701, \"y\": 0.8939966636005579, \"size\": 7, \"color\": \"#666\"}, {\"id\": \"n10\", \"label\": \"n10\", \"x\": 0.8623188722876839, \"y\": -0.5063656411097588, \"size\": 7, \"color\": \"#666\"}, {\"id\": \"n11\", \"label\": \"n11\", \"x\": -0.999020813314648, \"y\": -0.044242678085070965, \"size\": 7, \"color\": \"#666\"}, {\"id\": \"n12\", \"label\": \"n12\", \"x\": 0.8141809705265618, \"y\": 0.5806111842123143, \"size\": 7, \"color\": \"#666\"}, {\"id\": \"n13\", \"label\": \"n13\", \"x\": -0.3672913304546965, \"y\": -0.9301059501867618, \"size\": 7, \"color\": \"#666\"}, {\"id\": \"n14\", \"label\": \"n14\", \"x\": -0.19781357400426822, \"y\": 0.9802396594403116, \"size\": 7, \"color\": \"#666\"}, {\"id\": \"n15\", \"label\": \"n15\", \"x\": 0.6992508064783751, \"y\": -0.7148764296291646, \"size\": 7, \"color\": \"#666\"}], \"edges\": [{\"id\": \"ea_b\", \"source\": \"na\", \"target\": \"nb\", \"type\": \"arrow\", \"color\": \"#ccc\", \"size\": 5}, {\"id\": \"ed_c\", \"source\": \"nd\", \"target\": \"nc\", \"type\": \"arrow\", \"color\": \"#ccc\", \"size\": 5}, {\"id\": \"ea_d\", \"source\": \"na\", \"target\": \"nd\", \"type\": \"arrow\", \"color\": \"#ccc\", \"size\": 5}, {\"id\": \"eb_d\", \"source\": \"nb\", \"target\": \"nd\", \"type\": \"arrow\", \"color\": \"#ccc\", \"size\": 5}]} ;\n",
       "\n",
       "s = new sigma({graph: g, container: 'graph-div', settings: {\n",
       "            minNodeSize: 8,\n",
       "            maxNodeSize: 20,\n",
       "            minEdgeSize: 5,\n",
       "            maxEdgeSize: 6,\n",
       "            doubleClickEnabled: false,\n",
       "            arrowSizeRatio: 5,\n",
       "        }\n",
       "});\n",
       "\n",
       "s.graph.nodes().forEach(function(n) {\n",
       "  n.originalColor = n.color;\n",
       "});\n",
       "s.graph.edges().forEach(function(e) {\n",
       "  e.originalColor = e.color;\n",
       "});\n",
       "\n",
       "s.bind('clickNode', function(e) {\n",
       "  var nodeId = e.data.node.id,\n",
       "      toKeep = s.graph.neighbors(nodeId);\n",
       "  toKeep[nodeId] = e.data.node;\n",
       "\n",
       "  s.graph.nodes().forEach(function(n) {\n",
       "    if (toKeep[n.id])\n",
       "      n.color = n.originalColor;\n",
       "    else\n",
       "      n.color = '#eee';\n",
       "  });\n",
       "\n",
       "  s.graph.edges().forEach(function(e) {\n",
       "    if (toKeep[e.source] && toKeep[e.target])\n",
       "      e.color = e.originalColor;\n",
       "    else\n",
       "      e.color = '#eee';\n",
       "  });\n",
       "\n",
       "  s.refresh();\n",
       "});\n",
       "\n",
       "s.bind('clickStage', function(e) {\n",
       "  s.graph.nodes().forEach(function(n) {\n",
       "    n.color = n.originalColor;\n",
       "  });\n",
       "\n",
       "  s.graph.edges().forEach(function(e) {\n",
       "    e.color = e.originalColor;\n",
       "  });\n",
       "\n",
       "  s.refresh();\n",
       "});\n",
       "s.bind('clickNode', function(e) {\n",
       "  var kernel = IPython.notebook.kernel;\n",
       "    kernel.execute(\"a.append(5)\");\n",
       "  });\n",
       "\n",
       " </script>\n"
      ],
      "text/plain": [
       "<IPython.core.display.HTML object>"
      ]
     },
     "execution_count": 9,
     "metadata": {},
     "output_type": "execute_result"
    }
   ],
   "source": [
    "graph_data = { 'nodes': [], 'edges': [] }\n",
    "tree = ET.parse('graph_1.graphml')\n",
    "root = tree.getroot()\n",
    "nodes = []\n",
    "edges = []\n",
    "sources = []\n",
    "targets = []\n",
    "\n",
    "for graph in root.iter('{http://graphml.graphdrawing.org/xmlns}graph'):\n",
    "    type_of_graph=graph.attrib.get('edgedefault')\n",
    "\n",
    "for node in root.iter('{http://graphml.graphdrawing.org/xmlns}node'):\n",
    "    node_id = node.attrib.get('id')\n",
    "    nodes.append(\"\"+node_id)\n",
    "   \n",
    "for edge in root.iter('{http://graphml.graphdrawing.org/xmlns}edge'):\n",
    "    edge_id = edge.attrib.get('id')\n",
    "    source = edge.attrib.get('source')\n",
    "    target = edge.attrib.get('target')\n",
    "    edges.append(\"\"+edge_id)\n",
    "    sources.append(\"\"+source)\n",
    "    targets.append(\"\"+target)\n",
    "n_nodes = len(nodes)\n",
    "n_edges = len (edges)\n",
    "\n",
    "for i in range(n_nodes):\n",
    "    graph_data['nodes'].append({\n",
    "            \"id\": \"n\" + nodes[i],\n",
    "            \"label\": \"n\" + nodes[i],\n",
    "            \"x\": math.cos(i*10),\n",
    "            \"y\": math.sin(i*10),\n",
    "            \"size\": 7,\n",
    "            \"color\": \"#666\"\n",
    "        })\n",
    "for j in range(n_edges):\n",
    "    graph_data['edges'].append({\n",
    "            \"id\": \"e\" + edges[j],\n",
    "            \"source\": \"n\" + sources[j],\n",
    "            \"target\": \"n\" + targets[j],\n",
    "            \"type\":\"arrow\",\n",
    "            \"color\": \"#ccc\",\n",
    "            \"size\":5,\n",
    "        })\n",
    "\n",
    "js_text_template = Template(open('js/sigma-graph.js','r').read())\n",
    "\n",
    "js_text = js_text_template.substitute({'graph_data': json.dumps(graph_data),\n",
    "                                       'container': 'graph-div'})\n",
    "a = []\n",
    "html_template = Template('''\n",
    "<div stile=\"height:650\"><div id=\"graph-div\" style=\"height:600px\"></div></div>\n",
    "<button id=\"prp\" value=\"fihf\">kduhkfh</button>\n",
    "<script> $js_text </script>\n",
    "''')\n",
    "\n",
    "def printalo():\n",
    "        HTML(html_template.substitute({'js_text': js_text}))\n",
    "\n",
    "HTML(html_template.substitute({'js_text': js_text}))\n"
   ]
  },
  {
   "cell_type": "code",
   "execution_count": null,
   "metadata": {
    "hide_input": true
   },
   "outputs": [],
   "source": []
  },
  {
   "cell_type": "code",
   "execution_count": null,
   "metadata": {},
   "outputs": [],
   "source": []
  },
  {
   "cell_type": "code",
   "execution_count": null,
   "metadata": {},
   "outputs": [],
   "source": []
  }
 ],
 "metadata": {
  "kernelspec": {
   "display_name": "Python 3",
   "language": "python",
   "name": "python3"
  },
  "language_info": {
   "codemirror_mode": {
    "name": "ipython",
    "version": 3
   },
   "file_extension": ".py",
   "mimetype": "text/x-python",
   "name": "python",
   "nbconvert_exporter": "python",
   "pygments_lexer": "ipython3",
   "version": "3.7.3"
  }
 },
 "nbformat": 4,
 "nbformat_minor": 4
}
