{
 "cells": [
  {
   "cell_type": "markdown",
   "metadata": {},
   "source": [
    "# Esercizio grafi"
   ]
  },
  {
   "cell_type": "code",
   "execution_count": 1,
   "metadata": {},
   "outputs": [],
   "source": [
    "from IPython.core.display import display, HTML\n",
    "from string import Template\n",
    "import pandas as pd\n",
    "import json, random\n",
    "import networkx as nx\n",
    "from networkx.algorithms import bipartite\n",
    "import math\n",
    "import xml.etree.ElementTree as ET"
   ]
  },
  {
   "cell_type": "code",
   "execution_count": 2,
   "metadata": {},
   "outputs": [
    {
     "data": {
      "text/html": [
       "\n",
       "<script src=\"lib/sigmajs/sigma.min.js\"></script>\n",
       "<script src=\"js/sigma-add-method-neighbors.js\"></script>\n"
      ],
      "text/plain": [
       "<IPython.core.display.HTML object>"
      ]
     },
     "execution_count": 2,
     "metadata": {},
     "output_type": "execute_result"
    }
   ],
   "source": [
    "#da eseguire prima di tutto per caricare script\n",
    "HTML('''\n",
    "<script src=\"lib/sigmajs/sigma.min.js\"></script>\n",
    "<script src=\"js/sigma-add-method-neighbors.js\"></script>\n",
    "''')"
   ]
  },
  {
   "cell_type": "code",
   "execution_count": 3,
   "metadata": {},
   "outputs": [],
   "source": [
    "graph_data = { 'nodes': [], 'edges': [] } #struttura da passare a sigma-graph.js per costruire grafo\n",
    "\n",
    "#parsing dell'xml dopo averlo letto e creazione array con nodi e archi\n",
    "tree = ET.parse('graph_1.graphml')\n",
    "root = tree.getroot()\n",
    "nodes = []\n",
    "edges = []\n",
    "sources = []\n",
    "targets = []\n",
    "\n",
    "for graph in root.iter('{http://graphml.graphdrawing.org/xmlns}graph'):\n",
    "    type_of_graph=graph.attrib.get('edgedefault')\n",
    "\n",
    "for node in root.iter('{http://graphml.graphdrawing.org/xmlns}node'):\n",
    "    node_id = node.attrib.get('id')\n",
    "    nodes.append(\"\"+node_id)\n",
    "   \n",
    "for edge in root.iter('{http://graphml.graphdrawing.org/xmlns}edge'):\n",
    "    edge_id = edge.attrib.get('id')\n",
    "    source = edge.attrib.get('source')\n",
    "    target = edge.attrib.get('target')\n",
    "    edges.append(\"\"+edge_id)\n",
    "    sources.append(\"\"+source)\n",
    "    targets.append(\"\"+target)\n",
    "\n",
    "\n",
    "n_nodes = len(nodes)\n",
    "n_edges = len (edges)\n",
    "\n",
    "#riempio struttura e setto stile\n",
    "\n",
    "for i in range(n_nodes):\n",
    "    graph_data['nodes'].append({\n",
    "            \"id\": nodes[i],\n",
    "            \"label\": nodes[i],\n",
    "            \"x\": math.cos(i*10),\n",
    "            \"y\": math.sin(i*10),\n",
    "            \"size\": 7,\n",
    "            \"color\": \"#000\"\n",
    "            \n",
    "        })\n",
    "for j in range(n_edges):\n",
    "    graph_data['edges'].append({\n",
    "            \"id\": \"e\" + edges[j],\n",
    "            \"source\":  sources[j],\n",
    "            \"target\": targets[j],\n",
    "            \"type\":\"arrow\",\n",
    "            \"color\": \"#ccc\",\n",
    "            \"size\":5,\n",
    "        })"
   ]
  },
  {
   "cell_type": "code",
   "execution_count": 4,
   "metadata": {},
   "outputs": [
    {
     "data": {
      "text/html": [
       "\n",
       "<div id=\"graph-div\" style=\"height:400px\"></div>\n",
       "<button id=\"choice\">YES</button>\n",
       "<button id=\"choice\">NO</button>\n",
       "<script> var g = {\"nodes\": [{\"id\": \"0\", \"label\": \"0\", \"x\": 1.0, \"y\": 0.0, \"size\": 7, \"color\": \"#000\"}, {\"id\": \"1\", \"label\": \"1\", \"x\": -0.8390715290764524, \"y\": -0.5440211108893698, \"size\": 7, \"color\": \"#000\"}, {\"id\": \"2\", \"label\": \"2\", \"x\": 0.40808206181339196, \"y\": 0.9129452507276277, \"size\": 7, \"color\": \"#000\"}, {\"id\": \"3\", \"label\": \"3\", \"x\": 0.15425144988758405, \"y\": -0.9880316240928618, \"size\": 7, \"color\": \"#000\"}, {\"id\": \"4\", \"label\": \"4\", \"x\": -0.6669380616522619, \"y\": 0.7451131604793488, \"size\": 7, \"color\": \"#000\"}, {\"id\": \"5\", \"label\": \"5\", \"x\": 0.9649660284921133, \"y\": -0.26237485370392877, \"size\": 7, \"color\": \"#000\"}, {\"id\": \"a\", \"label\": \"a\", \"x\": -0.9524129804151563, \"y\": -0.3048106211022167, \"size\": 7, \"color\": \"#000\"}, {\"id\": \"b\", \"label\": \"b\", \"x\": 0.6333192030862999, \"y\": 0.7738906815578891, \"size\": 7, \"color\": \"#000\"}, {\"id\": \"c\", \"label\": \"c\", \"x\": -0.11038724383904756, \"y\": -0.9938886539233752, \"size\": 7, \"color\": \"#000\"}, {\"id\": \"d\", \"label\": \"d\", \"x\": -0.4480736161291701, \"y\": 0.8939966636005579, \"size\": 7, \"color\": \"#000\"}, {\"id\": \"10\", \"label\": \"10\", \"x\": 0.8623188722876839, \"y\": -0.5063656411097588, \"size\": 7, \"color\": \"#000\"}, {\"id\": \"11\", \"label\": \"11\", \"x\": -0.999020813314648, \"y\": -0.044242678085070965, \"size\": 7, \"color\": \"#000\"}, {\"id\": \"12\", \"label\": \"12\", \"x\": 0.8141809705265618, \"y\": 0.5806111842123143, \"size\": 7, \"color\": \"#000\"}, {\"id\": \"13\", \"label\": \"13\", \"x\": -0.3672913304546965, \"y\": -0.9301059501867618, \"size\": 7, \"color\": \"#000\"}, {\"id\": \"14\", \"label\": \"14\", \"x\": -0.19781357400426822, \"y\": 0.9802396594403116, \"size\": 7, \"color\": \"#000\"}, {\"id\": \"15\", \"label\": \"15\", \"x\": 0.6992508064783751, \"y\": -0.7148764296291646, \"size\": 7, \"color\": \"#000\"}], \"edges\": [{\"id\": \"ea_b\", \"source\": \"a\", \"target\": \"b\", \"type\": \"arrow\", \"color\": \"#ccc\", \"size\": 5}, {\"id\": \"ed_c\", \"source\": \"d\", \"target\": \"c\", \"type\": \"arrow\", \"color\": \"#ccc\", \"size\": 5}, {\"id\": \"ea_d\", \"source\": \"a\", \"target\": \"d\", \"type\": \"arrow\", \"color\": \"#ccc\", \"size\": 5}, {\"id\": \"eb_d\", \"source\": \"b\", \"target\": \"d\", \"type\": \"arrow\", \"color\": \"#ccc\", \"size\": 5}]} ;\n",
       "\n",
       "s = new sigma({graph: g, container: 'graph-div', settings: {\n",
       "            minNodeSize: 8,\n",
       "            maxNodeSize: 20,\n",
       "            minEdgeSize: 5,\n",
       "            maxEdgeSize: 6,\n",
       "            doubleClickEnabled: false,\n",
       "            arrowSizeRatio: 5,\n",
       "            scalingMode: 'inside',\n",
       "            nodeHoverColor: 'node',\n",
       "            defaultNodeHoverColor: '#f00',\n",
       "            defaultNodeColor: 'blue',\n",
       "            sideMargin: 0.1\n",
       "        }\n",
       "});\n",
       " /*\n",
       "s.graph.nodes().forEach(function(n) {\n",
       "  n.originalColor = n.color;\n",
       "});\n",
       "s.graph.edges().forEach(function(e) {\n",
       "  e.originalColor = e.color;\n",
       "});\n",
       "*/\n",
       "\n",
       "/*\n",
       "s.bind('clickNode', function(e) {\n",
       "  var nodeId = e.data.node.id,\n",
       "      toKeep = s.graph.neighbors(nodeId);\n",
       "  toKeep[nodeId] = e.data.node;\n",
       "\n",
       "  s.graph.nodes().forEach(function(n) {\n",
       "    if (toKeep[n.id])\n",
       "      n.color = n.originalColor;\n",
       "    else\n",
       "      n.color = '#eee';\n",
       "  });\n",
       "\n",
       "  s.graph.edges().forEach(function(e) {\n",
       "    if (toKeep[e.source] && toKeep[e.target])\n",
       "      e.color = e.originalColor;\n",
       "    else\n",
       "      e.color = '#eee';\n",
       "  });\n",
       "\n",
       "  s.refresh();\n",
       "});\n",
       "*/\n",
       "/*\n",
       "s.bind('clickStage', function(e) {\n",
       "  s.graph.nodes().forEach(function(n) {\n",
       "    n.color = n.originalColor;\n",
       "  });\n",
       "\n",
       "  s.graph.edges().forEach(function(e) {\n",
       "    e.color = e.originalColor;\n",
       "  });\n",
       "\n",
       "  s.refresh();\n",
       "});\n",
       "*/\n",
       "\n",
       "\n",
       "s.bind('clickNode', function(e) {\n",
       "    var node = e.data.node;\n",
       "    var nodeId = node.id\n",
       "    if (!node.isSelected){\n",
       "        node.isSelected = true;\n",
       "        node.color = \"#f00\";\n",
       "        node.orginalColor = \"#f00\"\n",
       "        command = \"first_set.append('\"+nodeId+\"')\"\n",
       "        var kernel = IPython.notebook.kernel;\n",
       "        kernel.execute(command);        \n",
       "    }else if(node.color == \"#f00\"){\n",
       "        node.color = \"#ff0\";\n",
       "        node.orginalColor = \"#ff0\"\n",
       "        command = \"second_set.append('\"+nodeId+\"')\"\n",
       "        var kernel = IPython.notebook.kernel;\n",
       "        kernel.execute(command);\n",
       "        command_1 = \"first_set.remove('\"+nodeId+\"')\"\n",
       "        kernel.execute(command_1);\n",
       "    }else{\n",
       "        node.isSelected = false;\n",
       "        node.color = \"#000\";\n",
       "        node.orginalColor = \"#000\"\n",
       "        command = \"second_set.remove('\"+nodeId+\"')\"\n",
       "        var kernel = IPython.notebook.kernel;\n",
       "        kernel.execute(command);        \n",
       "    }\n",
       "\n",
       "    s.refresh();\n",
       "  });\n",
       "\n",
       "\n",
       "\n",
       "\n",
       "\n",
       "\n",
       "\n",
       "\n",
       "\n",
       "\n",
       "\n",
       "\n",
       "\n",
       "\n",
       "\n",
       "\n",
       "\n",
       "\n",
       "\n",
       " </script>\n"
      ],
      "text/plain": [
       "<IPython.core.display.HTML object>"
      ]
     },
     "execution_count": 4,
     "metadata": {},
     "output_type": "execute_result"
    }
   ],
   "source": [
    "first_set = []\n",
    "second_set = []\n",
    "#lettura js per creazione grafo\n",
    "js_text_template = Template(open('js/sigma-graph.js','r').read())\n",
    "#faccio il dump della struttura che ho creato dentro il js\n",
    "js_text = js_text_template.substitute({'graph_data': json.dumps(graph_data),\n",
    "                                       'container': 'graph-div'})\n",
    "\n",
    "\n",
    "#html ($js_text significa che li ci andrà il js che ho pigliato in python)\n",
    "html_template = Template('''\n",
    "<div id=\"graph-div\" style=\"height:400px\"></div>\n",
    "<button id=\"choice\">YES</button>\n",
    "<button id=\"choice\">NO</button>\n",
    "<script> $js_text </script>\n",
    "''')\n",
    "#render dell'html con sostituzione delle variabili\n",
    "HTML(html_template.substitute({'js_text': js_text}))"
   ]
  },
  {
   "cell_type": "code",
   "execution_count": 5,
   "metadata": {},
   "outputs": [],
   "source": [
    "edges_touple = []\n",
    "for i in range(0,len(sources)):\n",
    "    edges_touple.append((sources[i],targets[i]))"
   ]
  },
  {
   "cell_type": "code",
   "execution_count": 6,
   "metadata": {},
   "outputs": [],
   "source": [
    "from bip_v import verifier"
   ]
  },
  {
   "cell_type": "code",
   "execution_count": 8,
   "metadata": {},
   "outputs": [
    {
     "name": "stdout",
     "output_type": "stream",
     "text": [
      "Risposta esatta\n"
     ]
    }
   ],
   "source": [
    "verifier(nodes, edges_touple, 'false')"
   ]
  },
  {
   "cell_type": "code",
   "execution_count": null,
   "metadata": {},
   "outputs": [],
   "source": []
  },
  {
   "cell_type": "code",
   "execution_count": null,
   "metadata": {},
   "outputs": [],
   "source": []
  }
 ],
 "metadata": {
  "kernelspec": {
   "display_name": "Python 3",
   "language": "python",
   "name": "python3"
  },
  "language_info": {
   "codemirror_mode": {
    "name": "ipython",
    "version": 3
   },
   "file_extension": ".py",
   "mimetype": "text/x-python",
   "name": "python",
   "nbconvert_exporter": "python",
   "pygments_lexer": "ipython3",
   "version": "3.7.3"
  }
 },
 "nbformat": 4,
 "nbformat_minor": 1
}
